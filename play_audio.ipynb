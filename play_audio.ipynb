{
 "cells": [
  {
   "cell_type": "code",
   "execution_count": 2,
   "metadata": {},
   "outputs": [
    {
     "data": {
      "text/plain": [
       "<_io.BufferedRandom name='audio_10 Full Hours Of People Talking_chunk24.wav'>"
      ]
     },
     "execution_count": 2,
     "metadata": {},
     "output_type": "execute_result"
    }
   ],
   "source": [
    "from pydub import AudioSegment\n",
    "\n",
    "# Load the reference audio clip\n",
    "reference_clip_path = 'clean.wav'\n",
    "reference_audio = AudioSegment.from_mp3(reference_clip_path)\n",
    "\n",
    "# Load the audio clip you want to cut\n",
    "audio_clip_path = 'audio_10 Full Hours Of People Talking_chunk24.wav'\n",
    "audio_to_cut = AudioSegment.from_mp3(audio_clip_path)\n",
    "\n",
    "# Get the duration of the reference clip\n",
    "reference_duration = len(reference_audio)\n",
    "\n",
    "# Cut the audio clip to the same duration as the reference clip\n",
    "cut_audio = audio_to_cut[:reference_duration]\n",
    "\n",
    "# Save the cut audio, overwriting the original file\n",
    "cut_audio.export(audio_clip_path, format=\"mp3\")\n"
   ]
  },
  {
   "cell_type": "code",
   "execution_count": 1,
   "metadata": {},
   "outputs": [
    {
     "ename": "NameError",
     "evalue": "name 'audio_files' is not defined",
     "output_type": "error",
     "traceback": [
      "\u001b[0;31m---------------------------------------------------------------------------\u001b[0m",
      "\u001b[0;31mNameError\u001b[0m                                 Traceback (most recent call last)",
      "\u001b[0;32m/tmp/ipykernel_518589/2663119457.py\u001b[0m in \u001b[0;36m<module>\u001b[0;34m\u001b[0m\n\u001b[0;32m----> 1\u001b[0;31m \u001b[0mprint\u001b[0m\u001b[0;34m(\u001b[0m\u001b[0maudio_files\u001b[0m\u001b[0;34m[\u001b[0m\u001b[0;36m1\u001b[0m\u001b[0;34m]\u001b[0m\u001b[0;34m)\u001b[0m\u001b[0;34m\u001b[0m\u001b[0;34m\u001b[0m\u001b[0m\n\u001b[0m",
      "\u001b[0;31mNameError\u001b[0m: name 'audio_files' is not defined"
     ]
    }
   ],
   "source": [
    "print(audio_files[1])"
   ]
  }
 ],
 "metadata": {
  "kernelspec": {
   "display_name": "denoise",
   "language": "python",
   "name": "python3"
  },
  "language_info": {
   "codemirror_mode": {
    "name": "ipython",
    "version": 3
   },
   "file_extension": ".py",
   "mimetype": "text/x-python",
   "name": "python",
   "nbconvert_exporter": "python",
   "pygments_lexer": "ipython3",
   "version": "3.7.12"
  }
 },
 "nbformat": 4,
 "nbformat_minor": 2
}
